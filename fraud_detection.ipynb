{
 "cells": [
  {
   "cell_type": "markdown",
   "id": "1441de66",
   "metadata": {},
   "source": [
    "# Financial Fraud Detection Project\n",
    "---\n",
    "**Internship Project – Data Science**\n",
    "\n",
    "This notebook demonstrates a complete fraud detection pipeline:\n",
    "- Synthetic dataset generation\n",
    "- Exploratory analysis (class balance)\n",
    "- Preprocessing (scaling, encoding)\n",
    "- Model training (Logistic Regression, Random Forest, Gradient Boosting)\n",
    "- Unsupervised anomaly detection (Isolation Forest)\n",
    "- Evaluation (AUC, Confusion Matrix, Precision/Recall)\n",
    "- Feature importance analysis\n",
    "- Saving models & flagged transactions\n",
    "\n",
    "---"
   ]
  },
  {
   "cell_type": "code",
   "execution_count": 1,
   "id": "0403d7f6",
   "metadata": {},
   "outputs": [
    {
     "name": "stdout",
     "output_type": "stream",
     "text": [
      "Note: you may need to restart the kernel to use updated packages.\n"
     ]
    }
   ],
   "source": [
    "# Run this cell only if you need to install missing packages.\n",
    "# Recommended: run in terminal, or run this cell once in the notebook.\n",
    "# Using `%pip` ensures the packages install into the current notebook environment.\n",
    "\n",
    "%pip install -q numpy pandas scikit-learn imbalanced-learn joblib matplotlib\n"
   ]
  },
  {
   "cell_type": "code",
   "execution_count": 2,
   "id": "d7d95d16",
   "metadata": {},
   "outputs": [
    {
     "name": "stdout",
     "output_type": "stream",
     "text": [
      "Python: 3.10.9 (tags/v3.10.9:1dd9be6, Dec  6 2022, 20:01:21) [MSC v.1934 64 bit (AMD64)]\n",
      "Platform: Windows-10-10.0.26100-SP0\n",
      "numpy: 2.2.6\n",
      "pandas: 2.3.1\n",
      "scikit-learn: 1.7.2\n"
     ]
    }
   ],
   "source": [
    "import sys, platform\n",
    "import numpy as np\n",
    "import pandas as pd\n",
    "import sklearn\n",
    "import matplotlib.pyplot as plt\n",
    "from pathlib import Path\n",
    "\n",
    "print(\"Python:\", sys.version.splitlines()[0])\n",
    "print(\"Platform:\", platform.platform())\n",
    "print(\"numpy:\", np.__version__)\n",
    "print(\"pandas:\", pd.__version__)\n",
    "print(\"scikit-learn:\", sklearn.__version__)\n",
    "\n",
    "# output folder\n",
    "OUT_DIR = Path(\"fraud_outputs\")\n",
    "OUT_DIR.mkdir(exist_ok=True)\n"
   ]
  },
  {
   "cell_type": "code",
   "execution_count": 3,
   "id": "46eede5e",
   "metadata": {},
   "outputs": [
    {
     "name": "stdout",
     "output_type": "stream",
     "text": [
      "OHE created: <class 'sklearn.preprocessing._encoders.OneHotEncoder'>\n"
     ]
    }
   ],
   "source": [
    "from sklearn.preprocessing import OneHotEncoder\n",
    "\n",
    "def make_ohe(**kwargs):\n",
    "    \"\"\"\n",
    "    Return a OneHotEncoder that works across sklearn versions.\n",
    "    Uses sparse_output when available, otherwise sparse.\n",
    "    \"\"\"\n",
    "    try:\n",
    "        return OneHotEncoder(handle_unknown='ignore', sparse_output=False, **kwargs)\n",
    "    except TypeError:\n",
    "        return OneHotEncoder(handle_unknown='ignore', sparse=False, **kwargs)\n",
    "\n",
    "# quick test\n",
    "ohe = make_ohe()\n",
    "print(\"OHE created:\", type(ohe))\n"
   ]
  },
  {
   "cell_type": "code",
   "execution_count": 4,
   "id": "16215894",
   "metadata": {},
   "outputs": [
    {
     "name": "stdout",
     "output_type": "stream",
     "text": [
      "Dataset created: (20000, 10)\n",
      "Fraud ratio: 0.0144\n"
     ]
    },
    {
     "data": {
      "application/vnd.microsoft.datawrangler.viewer.v0+json": {
       "columns": [
        {
         "name": "index",
         "rawType": "int64",
         "type": "integer"
        },
        {
         "name": "amount",
         "rawType": "float64",
         "type": "float"
        },
        {
         "name": "time_of_day",
         "rawType": "int32",
         "type": "integer"
        },
        {
         "name": "merchant_category",
         "rawType": "object",
         "type": "string"
        },
        {
         "name": "country",
         "rawType": "object",
         "type": "string"
        },
        {
         "name": "age",
         "rawType": "int32",
         "type": "integer"
        },
        {
         "name": "account_balance",
         "rawType": "float64",
         "type": "float"
        },
        {
         "name": "num_prev_txn",
         "rawType": "int32",
         "type": "integer"
        },
        {
         "name": "is_foreign",
         "rawType": "int64",
         "type": "integer"
        },
        {
         "name": "is_high_risk_merchant",
         "rawType": "int64",
         "type": "integer"
        },
        {
         "name": "is_fraud",
         "rawType": "int32",
         "type": "integer"
        }
       ],
       "ref": "65932520-5ee7-4acb-9168-0bad6cf04cbe",
       "rows": [
        [
         "0",
         "23.46",
         "21",
         "fashion",
         "GB",
         "69",
         "240.79",
         "5",
         "1",
         "0",
         "0"
        ],
        [
         "1",
         "150.51",
         "1",
         "grocery",
         "IN",
         "63",
         "2555.38",
         "1",
         "0",
         "0",
         "0"
        ],
        [
         "2",
         "65.84",
         "3",
         "fashion",
         "BR",
         "70",
         "4883.58",
         "2",
         "1",
         "0",
         "0"
        ],
        [
         "3",
         "45.65",
         "12",
         "grocery",
         "IN",
         "69",
         "2121.14",
         "2",
         "0",
         "0",
         "0"
        ],
        [
         "4",
         "8.48",
         "12",
         "grocery",
         "IN",
         "39",
         "2069.78",
         "3",
         "0",
         "0",
         "0"
        ]
       ],
       "shape": {
        "columns": 10,
        "rows": 5
       }
      },
      "text/html": [
       "<div>\n",
       "<style scoped>\n",
       "    .dataframe tbody tr th:only-of-type {\n",
       "        vertical-align: middle;\n",
       "    }\n",
       "\n",
       "    .dataframe tbody tr th {\n",
       "        vertical-align: top;\n",
       "    }\n",
       "\n",
       "    .dataframe thead th {\n",
       "        text-align: right;\n",
       "    }\n",
       "</style>\n",
       "<table border=\"1\" class=\"dataframe\">\n",
       "  <thead>\n",
       "    <tr style=\"text-align: right;\">\n",
       "      <th></th>\n",
       "      <th>amount</th>\n",
       "      <th>time_of_day</th>\n",
       "      <th>merchant_category</th>\n",
       "      <th>country</th>\n",
       "      <th>age</th>\n",
       "      <th>account_balance</th>\n",
       "      <th>num_prev_txn</th>\n",
       "      <th>is_foreign</th>\n",
       "      <th>is_high_risk_merchant</th>\n",
       "      <th>is_fraud</th>\n",
       "    </tr>\n",
       "  </thead>\n",
       "  <tbody>\n",
       "    <tr>\n",
       "      <th>0</th>\n",
       "      <td>23.46</td>\n",
       "      <td>21</td>\n",
       "      <td>fashion</td>\n",
       "      <td>GB</td>\n",
       "      <td>69</td>\n",
       "      <td>240.79</td>\n",
       "      <td>5</td>\n",
       "      <td>1</td>\n",
       "      <td>0</td>\n",
       "      <td>0</td>\n",
       "    </tr>\n",
       "    <tr>\n",
       "      <th>1</th>\n",
       "      <td>150.51</td>\n",
       "      <td>1</td>\n",
       "      <td>grocery</td>\n",
       "      <td>IN</td>\n",
       "      <td>63</td>\n",
       "      <td>2555.38</td>\n",
       "      <td>1</td>\n",
       "      <td>0</td>\n",
       "      <td>0</td>\n",
       "      <td>0</td>\n",
       "    </tr>\n",
       "    <tr>\n",
       "      <th>2</th>\n",
       "      <td>65.84</td>\n",
       "      <td>3</td>\n",
       "      <td>fashion</td>\n",
       "      <td>BR</td>\n",
       "      <td>70</td>\n",
       "      <td>4883.58</td>\n",
       "      <td>2</td>\n",
       "      <td>1</td>\n",
       "      <td>0</td>\n",
       "      <td>0</td>\n",
       "    </tr>\n",
       "    <tr>\n",
       "      <th>3</th>\n",
       "      <td>45.65</td>\n",
       "      <td>12</td>\n",
       "      <td>grocery</td>\n",
       "      <td>IN</td>\n",
       "      <td>69</td>\n",
       "      <td>2121.14</td>\n",
       "      <td>2</td>\n",
       "      <td>0</td>\n",
       "      <td>0</td>\n",
       "      <td>0</td>\n",
       "    </tr>\n",
       "    <tr>\n",
       "      <th>4</th>\n",
       "      <td>8.48</td>\n",
       "      <td>12</td>\n",
       "      <td>grocery</td>\n",
       "      <td>IN</td>\n",
       "      <td>39</td>\n",
       "      <td>2069.78</td>\n",
       "      <td>3</td>\n",
       "      <td>0</td>\n",
       "      <td>0</td>\n",
       "      <td>0</td>\n",
       "    </tr>\n",
       "  </tbody>\n",
       "</table>\n",
       "</div>"
      ],
      "text/plain": [
       "   amount  time_of_day merchant_category country  age  account_balance  \\\n",
       "0   23.46           21           fashion      GB   69           240.79   \n",
       "1  150.51            1           grocery      IN   63          2555.38   \n",
       "2   65.84            3           fashion      BR   70          4883.58   \n",
       "3   45.65           12           grocery      IN   69          2121.14   \n",
       "4    8.48           12           grocery      IN   39          2069.78   \n",
       "\n",
       "   num_prev_txn  is_foreign  is_high_risk_merchant  is_fraud  \n",
       "0             5           1                      0         0  \n",
       "1             1           0                      0         0  \n",
       "2             2           1                      0         0  \n",
       "3             2           0                      0         0  \n",
       "4             3           0                      0         0  "
      ]
     },
     "execution_count": 4,
     "metadata": {},
     "output_type": "execute_result"
    }
   ],
   "source": [
    "np.random.seed(42)\n",
    "n = 20000\n",
    "\n",
    "amount = np.concatenate([\n",
    "    np.random.exponential(scale=50, size=int(n*0.95)),\n",
    "    np.random.exponential(scale=500, size=int(n*0.05))\n",
    "])[:n]\n",
    "\n",
    "time_of_day = np.random.randint(0,24,size=n)\n",
    "merchant_category = np.random.choice(\n",
    "    ['grocery','electronics','travel','restaurants','utilities','fashion','crypto_exchange'],\n",
    "    size=n, p=[0.25,0.15,0.08,0.2,0.12,0.18,0.02]\n",
    ")\n",
    "country = np.random.choice(['IN','US','GB','NG','CN','BR'], size=n, p=[0.5,0.2,0.1,0.05,0.1,0.05])\n",
    "age = np.random.randint(18,80,size=n)\n",
    "account_balance = np.abs(np.random.normal(loc=2000, scale=1500, size=n))\n",
    "num_prev_txn = np.random.poisson(lam=3, size=n)\n",
    "is_foreign = (country != 'IN').astype(int)\n",
    "is_high_risk_merchant = (merchant_category == 'crypto_exchange').astype(int)\n",
    "\n",
    "risk_score = (\n",
    "    (amount > 1000).astype(int)*2 +\n",
    "    (time_of_day < 6).astype(int) +\n",
    "    (is_foreign)*1 +\n",
    "    (is_high_risk_merchant)*3 +\n",
    "    (account_balance < 50).astype(int)*2 +\n",
    "    (num_prev_txn == 0).astype(int)\n",
    ")\n",
    "prob = 0.01 + 0.05 * (risk_score / (risk_score.max()+1))\n",
    "is_fraud = np.random.binomial(1, np.clip(prob, 0, 0.5))\n",
    "\n",
    "df = pd.DataFrame({\n",
    "    'amount': np.round(amount,2),\n",
    "    'time_of_day': time_of_day,\n",
    "    'merchant_category': merchant_category,\n",
    "    'country': country,\n",
    "    'age': age,\n",
    "    'account_balance': np.round(account_balance,2),\n",
    "    'num_prev_txn': num_prev_txn,\n",
    "    'is_foreign': is_foreign,\n",
    "    'is_high_risk_merchant': is_high_risk_merchant,\n",
    "    'is_fraud': is_fraud\n",
    "})\n",
    "\n",
    "print(\"Dataset created:\", df.shape)\n",
    "print(\"Fraud ratio:\", df['is_fraud'].mean())\n",
    "df.head()\n"
   ]
  },
  {
   "cell_type": "code",
   "execution_count": 5,
   "id": "e9727fc2",
   "metadata": {},
   "outputs": [
    {
     "data": {
      "image/png": "[encoded data removed]",
      "text/plain": [
       "<Figure size 400x300 with 1 Axes>"
      ]
     },
     "metadata": {},
     "output_type": "display_data"
    },
    {
     "name": "stdout",
     "output_type": "stream",
     "text": [
      "Counts:\n",
      " is_fraud\n",
      "0    19712\n",
      "1      288\n",
      "Name: count, dtype: int64\n"
     ]
    }
   ],
   "source": [
    "counts = df['is_fraud'].value_counts().sort_index()\n",
    "plt.figure(figsize=(4,3))\n",
    "plt.bar(['legit (0)','fraud (1)'], counts.values)\n",
    "plt.title('Class balance (0=legit, 1=fraud)')\n",
    "plt.ylabel('Count')\n",
    "plt.tight_layout()\n",
    "plt.show()\n",
    "\n",
    "print(\"Counts:\\n\", counts)\n"
   ]
  },
  {
   "cell_type": "code",
   "execution_count": 6,
   "id": "c7963b32",
   "metadata": {},
   "outputs": [
    {
     "name": "stdout",
     "output_type": "stream",
     "text": [
      "Train: (15000, 9) Test: (5000, 9)\n",
      "Train fraud ratio: 0.0144\n"
     ]
    }
   ],
   "source": [
    "from sklearn.model_selection import train_test_split\n",
    "from sklearn.pipeline import Pipeline\n",
    "from sklearn.compose import ColumnTransformer\n",
    "from sklearn.preprocessing import StandardScaler\n",
    "\n",
    "# Features (consistent with notebook)\n",
    "num_features = ['amount','time_of_day','age','account_balance','num_prev_txn']\n",
    "cat_features = ['merchant_category','country','is_foreign','is_high_risk_merchant']\n",
    "\n",
    "# Train-test split\n",
    "X = df.drop(columns=['is_fraud']).copy()\n",
    "y = df['is_fraud'].copy()\n",
    "X_train, X_test, y_train, y_test = train_test_split(X, y, stratify=y, test_size=0.25, random_state=42)\n",
    "\n",
    "print(\"Train:\", X_train.shape, \"Test:\", X_test.shape)\n",
    "print(\"Train fraud ratio:\", y_train.mean())\n",
    "\n",
    "# Preprocessor\n",
    "num_transformer = Pipeline([('scaler', StandardScaler())])\n",
    "cat_transformer = Pipeline([('ohe', make_ohe())])\n",
    "\n",
    "preprocessor = ColumnTransformer([\n",
    "    ('num', num_transformer, num_features),\n",
    "    ('cat', cat_transformer, cat_features)\n",
    "])\n"
   ]
  },
  {
   "cell_type": "code",
   "execution_count": 7,
   "id": "23c947f0",
   "metadata": {},
   "outputs": [
    {
     "name": "stdout",
     "output_type": "stream",
     "text": [
      "SMOTE available — using SMOTE.\n",
      "Before resampling:\n",
      " is_fraud\n",
      "0    14784\n",
      "1      216\n",
      "Name: count, dtype: int64\n",
      "After resampling:\n",
      " is_fraud\n",
      "0    14784\n",
      "1    14784\n",
      "Name: count, dtype: int64\n"
     ]
    }
   ],
   "source": [
    "# Encode categorical columns first\n",
    "from sklearn.preprocessing import LabelEncoder\n",
    "\n",
    "label_encoders = {}\n",
    "for col in X_train.select_dtypes(include=['object']).columns:\n",
    "    le = LabelEncoder()\n",
    "    X_train[col] = le.fit_transform(X_train[col].astype(str))\n",
    "    X_test[col] = le.transform(X_test[col].astype(str))\n",
    "    label_encoders[col] = le\n",
    "\n",
    "# Try SMOTE; fallback to simple upsampling if imblearn not installed\n",
    "use_smote = False\n",
    "try:\n",
    "    from imblearn.over_sampling import SMOTE\n",
    "    use_smote = True\n",
    "    print(\"SMOTE available — using SMOTE.\")\n",
    "except Exception:\n",
    "    print(\"SMOTE not available — using simple random upsampling fallback (matching majority count).\")\n",
    "\n",
    "if use_smote:\n",
    "    smote = SMOTE(random_state=42)\n",
    "    X_resampled, y_resampled = smote.fit_resample(X_train, y_train)\n",
    "else:\n",
    "    train_df = X_train.copy()\n",
    "    train_df['is_fraud'] = y_train.values\n",
    "    majority = train_df[train_df['is_fraud'] == 0]\n",
    "    minority = train_df[train_df['is_fraud'] == 1]\n",
    "    upsampled_minority = minority.sample(n=len(majority), replace=True, random_state=42)\n",
    "    upsampled = pd.concat([majority, upsampled_minority]).sample(frac=1, random_state=42).reset_index(drop=True)\n",
    "    y_resampled = upsampled['is_fraud']\n",
    "    X_resampled = upsampled.drop(columns=['is_fraud'])\n",
    "\n",
    "print(\"Before resampling:\\n\", y_train.value_counts())\n",
    "print(\"After resampling:\\n\", pd.Series(y_resampled).value_counts())\n"
   ]
  },
  {
   "cell_type": "code",
   "execution_count": 8,
   "id": "b4bb9fb1",
   "metadata": {},
   "outputs": [
    {
     "name": "stdout",
     "output_type": "stream",
     "text": [
      "\n",
      "--- LogisticRegression ---\n",
      "AUC: 0.5534\n",
      "Confusion matrix:\n",
      " [[3456 1472]\n",
      " [  44   28]]\n",
      "\n",
      "Classification report:\n",
      "               precision    recall  f1-score   support\n",
      "\n",
      "           0     0.9874    0.7013    0.8201      4928\n",
      "           1     0.0187    0.3889    0.0356        72\n",
      "\n",
      "    accuracy                         0.6968      5000\n",
      "   macro avg     0.5030    0.5451    0.4279      5000\n",
      "weighted avg     0.9735    0.6968    0.8088      5000\n",
      "\n",
      "\n",
      "--- RandomForest ---\n",
      "AUC: 0.5405\n",
      "Confusion matrix:\n",
      " [[4863   65]\n",
      " [  71    1]]\n",
      "\n",
      "Classification report:\n",
      "               precision    recall  f1-score   support\n",
      "\n",
      "           0     0.9856    0.9868    0.9862      4928\n",
      "           1     0.0152    0.0139    0.0145        72\n",
      "\n",
      "    accuracy                         0.9728      5000\n",
      "   macro avg     0.5004    0.5003    0.5004      5000\n",
      "weighted avg     0.9716    0.9728    0.9722      5000\n",
      "\n",
      "\n",
      "--- GradientBoosting ---\n",
      "AUC: 0.5394\n",
      "Confusion matrix:\n",
      " [[4148  780]\n",
      " [  59   13]]\n",
      "\n",
      "Classification report:\n",
      "               precision    recall  f1-score   support\n",
      "\n",
      "           0     0.9860    0.8417    0.9082      4928\n",
      "           1     0.0164    0.1806    0.0301        72\n",
      "\n",
      "    accuracy                         0.8322      5000\n",
      "   macro avg     0.5012    0.5111    0.4691      5000\n",
      "weighted avg     0.9720    0.8322    0.8955      5000\n",
      "\n"
     ]
    }
   ],
   "source": [
    "from sklearn.linear_model import LogisticRegression\n",
    "from sklearn.ensemble import RandomForestClassifier, GradientBoostingClassifier\n",
    "from sklearn.metrics import classification_report, roc_auc_score, confusion_matrix\n",
    "import numpy as np\n",
    "\n",
    "models = {\n",
    "    'LogisticRegression': LogisticRegression(max_iter=1000, random_state=42),\n",
    "    'RandomForest': RandomForestClassifier(n_estimators=200, random_state=42, n_jobs=-1),\n",
    "    'GradientBoosting': GradientBoostingClassifier(n_estimators=200, random_state=42)\n",
    "}\n",
    "\n",
    "results = {}\n",
    "for name, model in models.items():\n",
    "    pipe = Pipeline([('preproc', preprocessor), ('clf', model)])\n",
    "    pipe.fit(X_resampled, y_resampled)   # train on balanced data\n",
    "\n",
    "    # predictions & probabilities (robust fallback)\n",
    "    preds = pipe.predict(X_test)\n",
    "    try:\n",
    "        probs = pipe.predict_proba(X_test)[:, 1]\n",
    "    except Exception:\n",
    "        try:\n",
    "            scores = pipe.decision_function(X_test)\n",
    "            probs = (scores - scores.min()) / (scores.max() - scores.min())\n",
    "        except Exception:\n",
    "            probs = preds.astype(float)\n",
    "\n",
    "    auc = roc_auc_score(y_test, probs) if len(np.unique(y_test))>1 else float('nan')\n",
    "    cm = confusion_matrix(y_test, preds)\n",
    "    report = classification_report(y_test, preds, digits=4, zero_division=0)\n",
    "\n",
    "    results[name] = {'auc': auc, 'cm': cm, 'report': report, 'pipe': pipe}\n",
    "    print(f\"\\n--- {name} ---\")\n",
    "    print(f\"AUC: {auc:.4f}\")\n",
    "    print(\"Confusion matrix:\\n\", cm)\n",
    "    print(\"\\nClassification report:\\n\", report)\n"
   ]
  },
  {
   "cell_type": "code",
   "execution_count": 9,
   "id": "ef1a617b",
   "metadata": {},
   "outputs": [
    {
     "name": "stdout",
     "output_type": "stream",
     "text": [
      "Best model: LogisticRegression AUC: 0.5533685064935064\n"
     ]
    },
    {
     "data": {
      "image/png": "[encoded data removed]",
      "text/plain": [
       "<Figure size 400x300 with 2 Axes>"
      ]
     },
     "metadata": {},
     "output_type": "display_data"
    },
    {
     "name": "stdout",
     "output_type": "stream",
     "text": [
      "\n",
      "Top features (RandomForest):\n"
     ]
    },
    {
     "data": {
      "application/vnd.microsoft.datawrangler.viewer.v0+json": {
       "columns": [
        {
         "name": "index",
         "rawType": "int64",
         "type": "integer"
        },
        {
         "name": "feature",
         "rawType": "object",
         "type": "string"
        },
        {
         "name": "importance",
         "rawType": "float64",
         "type": "float"
        }
       ],
       "ref": "b0a04077-08d2-4577-8e76-c043888186f8",
       "rows": [
        [
         "3",
         "account_balance",
         "0.19398988174009013"
        ],
        [
         "0",
         "amount",
         "0.13782078188200442"
        ],
        [
         "1",
         "time_of_day",
         "0.13431836659155016"
        ],
        [
         "2",
         "age",
         "0.12709134185705456"
        ],
        [
         "4",
         "num_prev_txn",
         "0.0739347417087514"
        ],
        [
         "15",
         "country_3",
         "0.06432070156717103"
        ],
        [
         "18",
         "is_foreign_0",
         "0.04421160792974868"
        ],
        [
         "19",
         "is_foreign_1",
         "0.03863137258395001"
        ],
        [
         "11",
         "merchant_category_6",
         "0.0355582342281619"
        ],
        [
         "17",
         "country_5",
         "0.033645984366621494"
        ]
       ],
       "shape": {
        "columns": 2,
        "rows": 10
       }
      },
      "text/html": [
       "<div>\n",
       "<style scoped>\n",
       "    .dataframe tbody tr th:only-of-type {\n",
       "        vertical-align: middle;\n",
       "    }\n",
       "\n",
       "    .dataframe tbody tr th {\n",
       "        vertical-align: top;\n",
       "    }\n",
       "\n",
       "    .dataframe thead th {\n",
       "        text-align: right;\n",
       "    }\n",
       "</style>\n",
       "<table border=\"1\" class=\"dataframe\">\n",
       "  <thead>\n",
       "    <tr style=\"text-align: right;\">\n",
       "      <th></th>\n",
       "      <th>feature</th>\n",
       "      <th>importance</th>\n",
       "    </tr>\n",
       "  </thead>\n",
       "  <tbody>\n",
       "    <tr>\n",
       "      <th>3</th>\n",
       "      <td>account_balance</td>\n",
       "      <td>0.193990</td>\n",
       "    </tr>\n",
       "    <tr>\n",
       "      <th>0</th>\n",
       "      <td>amount</td>\n",
       "      <td>0.137821</td>\n",
       "    </tr>\n",
       "    <tr>\n",
       "      <th>1</th>\n",
       "      <td>time_of_day</td>\n",
       "      <td>0.134318</td>\n",
       "    </tr>\n",
       "    <tr>\n",
       "      <th>2</th>\n",
       "      <td>age</td>\n",
       "      <td>0.127091</td>\n",
       "    </tr>\n",
       "    <tr>\n",
       "      <th>4</th>\n",
       "      <td>num_prev_txn</td>\n",
       "      <td>0.073935</td>\n",
       "    </tr>\n",
       "    <tr>\n",
       "      <th>15</th>\n",
       "      <td>country_3</td>\n",
       "      <td>0.064321</td>\n",
       "    </tr>\n",
       "    <tr>\n",
       "      <th>18</th>\n",
       "      <td>is_foreign_0</td>\n",
       "      <td>0.044212</td>\n",
       "    </tr>\n",
       "    <tr>\n",
       "      <th>19</th>\n",
       "      <td>is_foreign_1</td>\n",
       "      <td>0.038631</td>\n",
       "    </tr>\n",
       "    <tr>\n",
       "      <th>11</th>\n",
       "      <td>merchant_category_6</td>\n",
       "      <td>0.035558</td>\n",
       "    </tr>\n",
       "    <tr>\n",
       "      <th>17</th>\n",
       "      <td>country_5</td>\n",
       "      <td>0.033646</td>\n",
       "    </tr>\n",
       "  </tbody>\n",
       "</table>\n",
       "</div>"
      ],
      "text/plain": [
       "                feature  importance\n",
       "3       account_balance    0.193990\n",
       "0                amount    0.137821\n",
       "1           time_of_day    0.134318\n",
       "2                   age    0.127091\n",
       "4          num_prev_txn    0.073935\n",
       "15            country_3    0.064321\n",
       "18         is_foreign_0    0.044212\n",
       "19         is_foreign_1    0.038631\n",
       "11  merchant_category_6    0.035558\n",
       "17            country_5    0.033646"
      ]
     },
     "metadata": {},
     "output_type": "display_data"
    },
    {
     "name": "stdout",
     "output_type": "stream",
     "text": [
      "\n",
      "Top flagged transactions (first 10 shown):\n"
     ]
    },
    {
     "data": {
      "application/vnd.microsoft.datawrangler.viewer.v0+json": {
       "columns": [
        {
         "name": "index",
         "rawType": "int64",
         "type": "integer"
        },
        {
         "name": "amount",
         "rawType": "float64",
         "type": "float"
        },
        {
         "name": "time_of_day",
         "rawType": "int32",
         "type": "integer"
        },
        {
         "name": "merchant_category",
         "rawType": "int64",
         "type": "integer"
        },
        {
         "name": "country",
         "rawType": "int64",
         "type": "integer"
        },
        {
         "name": "age",
         "rawType": "int32",
         "type": "integer"
        },
        {
         "name": "account_balance",
         "rawType": "float64",
         "type": "float"
        },
        {
         "name": "num_prev_txn",
         "rawType": "int32",
         "type": "integer"
        },
        {
         "name": "is_foreign",
         "rawType": "int64",
         "type": "integer"
        },
        {
         "name": "is_high_risk_merchant",
         "rawType": "int64",
         "type": "integer"
        },
        {
         "name": "fraud_prob",
         "rawType": "float64",
         "type": "float"
        },
        {
         "name": "true_label",
         "rawType": "int32",
         "type": "integer"
        }
       ],
       "ref": "b1d9dd7e-00ae-4f7a-8372-b49403507c5d",
       "rows": [
        [
         "2344",
         "59.23",
         "1",
         "2",
         "4",
         "71",
         "4456.58",
         "0",
         "1",
         "0",
         "0.8417094020418145",
         "0"
        ],
        [
         "573",
         "9.0",
         "2",
         "2",
         "4",
         "65",
         "1128.76",
         "0",
         "1",
         "0",
         "0.8373695454205867",
         "0"
        ],
        [
         "4658",
         "104.58",
         "0",
         "2",
         "4",
         "27",
         "2504.52",
         "1",
         "1",
         "0",
         "0.8184657237131322",
         "0"
        ],
        [
         "3543",
         "72.8",
         "0",
         "2",
         "4",
         "78",
         "566.16",
         "1",
         "1",
         "0",
         "0.8154794758298153",
         "0"
        ],
        [
         "2476",
         "34.48",
         "6",
         "1",
         "4",
         "43",
         "1060.71",
         "0",
         "1",
         "0",
         "0.7977223282257735",
         "0"
        ],
        [
         "3951",
         "42.42",
         "0",
         "2",
         "4",
         "67",
         "2961.08",
         "2",
         "1",
         "0",
         "0.7958126083571898",
         "0"
        ],
        [
         "3451",
         "9.31",
         "1",
         "2",
         "4",
         "32",
         "17.51",
         "2",
         "1",
         "0",
         "0.7913974538987835",
         "0"
        ],
        [
         "1210",
         "69.03",
         "1",
         "2",
         "4",
         "33",
         "515.83",
         "2",
         "1",
         "0",
         "0.7853164425186547",
         "0"
        ],
        [
         "4907",
         "3.84",
         "1",
         "2",
         "1",
         "32",
         "1859.72",
         "1",
         "1",
         "0",
         "0.7831921965358676",
         "0"
        ],
        [
         "2142",
         "20.34",
         "6",
         "2",
         "1",
         "45",
         "1789.74",
         "0",
         "1",
         "0",
         "0.7774391856125478",
         "0"
        ]
       ],
       "shape": {
        "columns": 11,
        "rows": 10
       }
      },
      "text/html": [
       "<div>\n",
       "<style scoped>\n",
       "    .dataframe tbody tr th:only-of-type {\n",
       "        vertical-align: middle;\n",
       "    }\n",
       "\n",
       "    .dataframe tbody tr th {\n",
       "        vertical-align: top;\n",
       "    }\n",
       "\n",
       "    .dataframe thead th {\n",
       "        text-align: right;\n",
       "    }\n",
       "</style>\n",
       "<table border=\"1\" class=\"dataframe\">\n",
       "  <thead>\n",
       "    <tr style=\"text-align: right;\">\n",
       "      <th></th>\n",
       "      <th>amount</th>\n",
       "      <th>time_of_day</th>\n",
       "      <th>merchant_category</th>\n",
       "      <th>country</th>\n",
       "      <th>age</th>\n",
       "      <th>account_balance</th>\n",
       "      <th>num_prev_txn</th>\n",
       "      <th>is_foreign</th>\n",
       "      <th>is_high_risk_merchant</th>\n",
       "      <th>fraud_prob</th>\n",
       "      <th>true_label</th>\n",
       "    </tr>\n",
       "  </thead>\n",
       "  <tbody>\n",
       "    <tr>\n",
       "      <th>2344</th>\n",
       "      <td>59.23</td>\n",
       "      <td>1</td>\n",
       "      <td>2</td>\n",
       "      <td>4</td>\n",
       "      <td>71</td>\n",
       "      <td>4456.58</td>\n",
       "      <td>0</td>\n",
       "      <td>1</td>\n",
       "      <td>0</td>\n",
       "      <td>0.841709</td>\n",
       "      <td>0</td>\n",
       "    </tr>\n",
       "    <tr>\n",
       "      <th>573</th>\n",
       "      <td>9.00</td>\n",
       "      <td>2</td>\n",
       "      <td>2</td>\n",
       "      <td>4</td>\n",
       "      <td>65</td>\n",
       "      <td>1128.76</td>\n",
       "      <td>0</td>\n",
       "      <td>1</td>\n",
       "      <td>0</td>\n",
       "      <td>0.837370</td>\n",
       "      <td>0</td>\n",
       "    </tr>\n",
       "    <tr>\n",
       "      <th>4658</th>\n",
       "      <td>104.58</td>\n",
       "      <td>0</td>\n",
       "      <td>2</td>\n",
       "      <td>4</td>\n",
       "      <td>27</td>\n",
       "      <td>2504.52</td>\n",
       "      <td>1</td>\n",
       "      <td>1</td>\n",
       "      <td>0</td>\n",
       "      <td>0.818466</td>\n",
       "      <td>0</td>\n",
       "    </tr>\n",
       "    <tr>\n",
       "      <th>3543</th>\n",
       "      <td>72.80</td>\n",
       "      <td>0</td>\n",
       "      <td>2</td>\n",
       "      <td>4</td>\n",
       "      <td>78</td>\n",
       "      <td>566.16</td>\n",
       "      <td>1</td>\n",
       "      <td>1</td>\n",
       "      <td>0</td>\n",
       "      <td>0.815479</td>\n",
       "      <td>0</td>\n",
       "    </tr>\n",
       "    <tr>\n",
       "      <th>2476</th>\n",
       "      <td>34.48</td>\n",
       "      <td>6</td>\n",
       "      <td>1</td>\n",
       "      <td>4</td>\n",
       "      <td>43</td>\n",
       "      <td>1060.71</td>\n",
       "      <td>0</td>\n",
       "      <td>1</td>\n",
       "      <td>0</td>\n",
       "      <td>0.797722</td>\n",
       "      <td>0</td>\n",
       "    </tr>\n",
       "    <tr>\n",
       "      <th>3951</th>\n",
       "      <td>42.42</td>\n",
       "      <td>0</td>\n",
       "      <td>2</td>\n",
       "      <td>4</td>\n",
       "      <td>67</td>\n",
       "      <td>2961.08</td>\n",
       "      <td>2</td>\n",
       "      <td>1</td>\n",
       "      <td>0</td>\n",
       "      <td>0.795813</td>\n",
       "      <td>0</td>\n",
       "    </tr>\n",
       "    <tr>\n",
       "      <th>3451</th>\n",
       "      <td>9.31</td>\n",
       "      <td>1</td>\n",
       "      <td>2</td>\n",
       "      <td>4</td>\n",
       "      <td>32</td>\n",
       "      <td>17.51</td>\n",
       "      <td>2</td>\n",
       "      <td>1</td>\n",
       "      <td>0</td>\n",
       "      <td>0.791397</td>\n",
       "      <td>0</td>\n",
       "    </tr>\n",
       "    <tr>\n",
       "      <th>1210</th>\n",
       "      <td>69.03</td>\n",
       "      <td>1</td>\n",
       "      <td>2</td>\n",
       "      <td>4</td>\n",
       "      <td>33</td>\n",
       "      <td>515.83</td>\n",
       "      <td>2</td>\n",
       "      <td>1</td>\n",
       "      <td>0</td>\n",
       "      <td>0.785316</td>\n",
       "      <td>0</td>\n",
       "    </tr>\n",
       "    <tr>\n",
       "      <th>4907</th>\n",
       "      <td>3.84</td>\n",
       "      <td>1</td>\n",
       "      <td>2</td>\n",
       "      <td>1</td>\n",
       "      <td>32</td>\n",
       "      <td>1859.72</td>\n",
       "      <td>1</td>\n",
       "      <td>1</td>\n",
       "      <td>0</td>\n",
       "      <td>0.783192</td>\n",
       "      <td>0</td>\n",
       "    </tr>\n",
       "    <tr>\n",
       "      <th>2142</th>\n",
       "      <td>20.34</td>\n",
       "      <td>6</td>\n",
       "      <td>2</td>\n",
       "      <td>1</td>\n",
       "      <td>45</td>\n",
       "      <td>1789.74</td>\n",
       "      <td>0</td>\n",
       "      <td>1</td>\n",
       "      <td>0</td>\n",
       "      <td>0.777439</td>\n",
       "      <td>0</td>\n",
       "    </tr>\n",
       "  </tbody>\n",
       "</table>\n",
       "</div>"
      ],
      "text/plain": [
       "      amount  time_of_day  merchant_category  country  age  account_balance  \\\n",
       "2344   59.23            1                  2        4   71          4456.58   \n",
       "573     9.00            2                  2        4   65          1128.76   \n",
       "4658  104.58            0                  2        4   27          2504.52   \n",
       "3543   72.80            0                  2        4   78           566.16   \n",
       "2476   34.48            6                  1        4   43          1060.71   \n",
       "3951   42.42            0                  2        4   67          2961.08   \n",
       "3451    9.31            1                  2        4   32            17.51   \n",
       "1210   69.03            1                  2        4   33           515.83   \n",
       "4907    3.84            1                  2        1   32          1859.72   \n",
       "2142   20.34            6                  2        1   45          1789.74   \n",
       "\n",
       "      num_prev_txn  is_foreign  is_high_risk_merchant  fraud_prob  true_label  \n",
       "2344             0           1                      0    0.841709           0  \n",
       "573              0           1                      0    0.837370           0  \n",
       "4658             1           1                      0    0.818466           0  \n",
       "3543             1           1                      0    0.815479           0  \n",
       "2476             0           1                      0    0.797722           0  \n",
       "3951             2           1                      0    0.795813           0  \n",
       "3451             2           1                      0    0.791397           0  \n",
       "1210             2           1                      0    0.785316           0  \n",
       "4907             1           1                      0    0.783192           0  \n",
       "2142             0           1                      0    0.777439           0  "
      ]
     },
     "metadata": {},
     "output_type": "display_data"
    }
   ],
   "source": [
    "# Pick best model by AUC (ignore NaN)\n",
    "best_name = max(results.items(), key=lambda x: (np.isfinite(x[1]['auc']), x[1]['auc']))[0]\n",
    "best_info = results[best_name]\n",
    "print(\"Best model:\", best_name, \"AUC:\", best_info['auc'])\n",
    "\n",
    "# Confusion matrix plot\n",
    "cm = best_info['cm']\n",
    "plt.figure(figsize=(4,3))\n",
    "plt.imshow(cm, interpolation='nearest', cmap='Blues')\n",
    "plt.title(f'Confusion Matrix - {best_name}')\n",
    "plt.xlabel('Predicted')\n",
    "plt.ylabel('True')\n",
    "for i in range(cm.shape[0]):\n",
    "    for j in range(cm.shape[1]):\n",
    "        plt.text(j, i, format(cm[i, j], 'd'), ha='center', va='center')\n",
    "plt.colorbar()\n",
    "plt.tight_layout()\n",
    "plt.show()\n",
    "\n",
    "# Feature importance (RandomForest)\n",
    "try:\n",
    "    rf_pipe = results['RandomForest']['pipe']\n",
    "    rf = rf_pipe.named_steps['clf']\n",
    "    # get ohe and feature names\n",
    "    ohe = rf_pipe.named_steps['preproc'].named_transformers_['cat'].named_steps['ohe']\n",
    "    try:\n",
    "        cat_feat_names = list(ohe.get_feature_names_out(cat_features))\n",
    "    except Exception:\n",
    "        # fallback: create approximate names\n",
    "        cat_feat_names = []\n",
    "        for c in cat_features:\n",
    "            vals = X_train[c].unique()[:20]\n",
    "            cat_feat_names += [f\"{c}_{v}\" for v in vals]\n",
    "    feature_names = num_features + cat_feat_names\n",
    "    importances = rf.feature_importances_\n",
    "    feat_imp = pd.DataFrame({'feature': feature_names[:len(importances)], 'importance': importances})\n",
    "    feat_imp = feat_imp.sort_values('importance', ascending=False)\n",
    "    print(\"\\nTop features (RandomForest):\")\n",
    "    display(feat_imp.head(10))\n",
    "    feat_imp.to_csv(OUT_DIR / \"feature_importances.csv\", index=False)\n",
    "except Exception as e:\n",
    "    print(\"Could not compute feature importances:\", e)\n",
    "\n",
    "# Top flagged transactions by best model probs\n",
    "try:\n",
    "    probs_best = best_info['pipe'].predict_proba(X_test)[:,1]\n",
    "    flagged = X_test.reset_index(drop=True).copy()\n",
    "    flagged['fraud_prob'] = probs_best\n",
    "    flagged['true_label'] = y_test.reset_index(drop=True)\n",
    "    flagged_sorted = flagged.sort_values('fraud_prob', ascending=False).head(20)\n",
    "    print(\"\\nTop flagged transactions (first 10 shown):\")\n",
    "    display(flagged_sorted.head(10))\n",
    "    flagged_sorted.to_csv(OUT_DIR / \"top_flagged_transactions.csv\", index=False)\n",
    "except Exception as e:\n",
    "    print(\"Could not compute flagged transactions:\", e)\n"
   ]
  },
  {
   "cell_type": "code",
   "execution_count": 10,
   "id": "d5393ab0",
   "metadata": {},
   "outputs": [
    {
     "name": "stdout",
     "output_type": "stream",
     "text": [
      "Saved: fraud_outputs\\LogisticRegression_pipeline.joblib\n",
      "Saved: fraud_outputs\\RandomForest_pipeline.joblib\n",
      "Saved: fraud_outputs\\GradientBoosting_pipeline.joblib\n",
      "Report saved to fraud_outputs\\fraud_report.md\n"
     ]
    }
   ],
   "source": [
    "import joblib\n",
    "from datetime import datetime\n",
    "\n",
    "# Save all pipelines\n",
    "for name, info in results.items():\n",
    "    path = OUT_DIR / f\"{name}_pipeline.joblib\"\n",
    "    try:\n",
    "        joblib.dump(info['pipe'], path)\n",
    "        print(\"Saved:\", path)\n",
    "    except Exception as e:\n",
    "        print(\"Could not save\", name, e)\n",
    "\n",
    "# Brief markdown report\n",
    "report_lines = [\n",
    "    \"# Fraud Detection Report\",\n",
    "    f\"- Generated: {datetime.utcnow().strftime('%Y-%m-%d %H:%M:%S UTC')}\",\n",
    "    f\"- Rows: {len(df)}\",\n",
    "    f\"- Fraud ratio: {df['is_fraud'].mean():.4f}\",\n",
    "    \"\",\n",
    "    \"## Model Summary\"\n",
    "]\n",
    "for name, info in results.items():\n",
    "    report_lines += [f\"### {name}\", f\"- AUC: {info['auc']}\", \"Confusion matrix:\", \"```\", str(info['cm']), \"```\", \"\"]\n",
    "\n",
    "(report_path := OUT_DIR / \"fraud_report.md\").write_text(\"\\n\".join(report_lines))\n",
    "print(\"Report saved to\", report_path)\n"
   ]
  },
  {
   "cell_type": "code",
   "execution_count": 11,
   "id": "929a028f",
   "metadata": {},
   "outputs": [],
   "source": [
    "## Final \n",
    "\n",
    "# - The dataset is synthetic and very imbalanced (~1-2% fraud).  \n",
    "# - Models trained after SMOTE / upsampling will show improved recall (demo purpose).  \n",
    "# - For production: collect richer features (velocity, historical account stats, device/location flags), use cost-sensitive learning, threshold tuning, and monitor model drift.  \n",
    "# - Output files saved in `fraud_outputs/`:\n",
    "#   - feature_importances.csv\n",
    "#   - top_flagged_transactions.csv\n",
    "#   - {Model}_pipeline.joblib\n",
    "#   - fraud_report.md"
   ]
  }
 ],
 "metadata": {
  "kernelspec": {
   "display_name": "Python 3",
   "language": "python",
   "name": "python3"
  },
  "language_info": {
   "codemirror_mode": {
    "name": "ipython",
    "version": 3
   },
   "file_extension": ".py",
   "mimetype": "text/x-python",
   "name": "python",
   "nbconvert_exporter": "python",
   "pygments_lexer": "ipython3",
   "version": "3.10.9"
  }
 },
 "nbformat": 4,
 "nbformat_minor": 5
}
